{
 "cells": [
  {
   "cell_type": "code",
   "execution_count": 95,
   "id": "330d42a9",
   "metadata": {},
   "outputs": [],
   "source": [
    "import numpy as np\n",
    "import pandas as pd \n",
    "%matplotlib inline \n",
    "import matplotlib as mpl\n",
    "import matplotlib.pyplot as plt "
   ]
  },
  {
   "cell_type": "code",
   "execution_count": 96,
   "id": "a52e15bf",
   "metadata": {},
   "outputs": [],
   "source": [
    "import tensorflow as tf\n",
    "from tensorflow import keras"
   ]
  },
  {
   "cell_type": "code",
   "execution_count": 97,
   "id": "89a9507e",
   "metadata": {},
   "outputs": [],
   "source": [
    "from sklearn.datasets import fetch_california_housing\n",
    "housing=fetch_california_housing()"
   ]
  },
  {
   "cell_type": "code",
   "execution_count": 98,
   "id": "a2835ab7",
   "metadata": {
    "scrolled": true
   },
   "outputs": [
    {
     "data": {
      "text/plain": [
       "{'data': array([[   8.3252    ,   41.        ,    6.98412698, ...,    2.55555556,\n",
       "           37.88      , -122.23      ],\n",
       "        [   8.3014    ,   21.        ,    6.23813708, ...,    2.10984183,\n",
       "           37.86      , -122.22      ],\n",
       "        [   7.2574    ,   52.        ,    8.28813559, ...,    2.80225989,\n",
       "           37.85      , -122.24      ],\n",
       "        ...,\n",
       "        [   1.7       ,   17.        ,    5.20554273, ...,    2.3256351 ,\n",
       "           39.43      , -121.22      ],\n",
       "        [   1.8672    ,   18.        ,    5.32951289, ...,    2.12320917,\n",
       "           39.43      , -121.32      ],\n",
       "        [   2.3886    ,   16.        ,    5.25471698, ...,    2.61698113,\n",
       "           39.37      , -121.24      ]]),\n",
       " 'target': array([4.526, 3.585, 3.521, ..., 0.923, 0.847, 0.894]),\n",
       " 'frame': None,\n",
       " 'target_names': ['MedHouseVal'],\n",
       " 'feature_names': ['MedInc',\n",
       "  'HouseAge',\n",
       "  'AveRooms',\n",
       "  'AveBedrms',\n",
       "  'Population',\n",
       "  'AveOccup',\n",
       "  'Latitude',\n",
       "  'Longitude'],\n",
       " 'DESCR': '.. _california_housing_dataset:\\n\\nCalifornia Housing dataset\\n--------------------------\\n\\n**Data Set Characteristics:**\\n\\n    :Number of Instances: 20640\\n\\n    :Number of Attributes: 8 numeric, predictive attributes and the target\\n\\n    :Attribute Information:\\n        - MedInc        median income in block group\\n        - HouseAge      median house age in block group\\n        - AveRooms      average number of rooms per household\\n        - AveBedrms     average number of bedrooms per household\\n        - Population    block group population\\n        - AveOccup      average number of household members\\n        - Latitude      block group latitude\\n        - Longitude     block group longitude\\n\\n    :Missing Attribute Values: None\\n\\nThis dataset was obtained from the StatLib repository.\\nhttps://www.dcc.fc.up.pt/~ltorgo/Regression/cal_housing.html\\n\\nThe target variable is the median house value for California districts,\\nexpressed in hundreds of thousands of dollars ($100,000).\\n\\nThis dataset was derived from the 1990 U.S. census, using one row per census\\nblock group. A block group is the smallest geographical unit for which the U.S.\\nCensus Bureau publishes sample data (a block group typically has a population\\nof 600 to 3,000 people).\\n\\nAn household is a group of people residing within a home. Since the average\\nnumber of rooms and bedrooms in this dataset are provided per household, these\\ncolumns may take surpinsingly large values for block groups with few households\\nand many empty houses, such as vacation resorts.\\n\\nIt can be downloaded/loaded using the\\n:func:`sklearn.datasets.fetch_california_housing` function.\\n\\n.. topic:: References\\n\\n    - Pace, R. Kelley and Ronald Barry, Sparse Spatial Autoregressions,\\n      Statistics and Probability Letters, 33 (1997) 291-297\\n'}"
      ]
     },
     "execution_count": 98,
     "metadata": {},
     "output_type": "execute_result"
    }
   ],
   "source": [
    "#predicting the price of house using 8 independent variables\n",
    "housing"
   ]
  },
  {
   "cell_type": "code",
   "execution_count": 99,
   "id": "7fb34716",
   "metadata": {},
   "outputs": [
    {
     "name": "stdout",
     "output_type": "stream",
     "text": [
      "['MedInc', 'HouseAge', 'AveRooms', 'AveBedrms', 'Population', 'AveOccup', 'Latitude', 'Longitude']\n"
     ]
    }
   ],
   "source": [
    "#Target to find the value of house\n",
    "print(housing.feature_names)"
   ]
  },
  {
   "cell_type": "code",
   "execution_count": 100,
   "id": "e9f0821f",
   "metadata": {},
   "outputs": [],
   "source": [
    "from sklearn.model_selection import train_test_split\n",
    "x_train_full,x_test,y_train_full,y_test=train_test_split(housing.data,housing.target,random_state=42)\n",
    "x_train,x_valid,y_train,y_valid=train_test_split(x_train_full,y_train_full,random_state=42)"
   ]
  },
  {
   "cell_type": "code",
   "execution_count": 101,
   "id": "8dca9fb0",
   "metadata": {},
   "outputs": [],
   "source": [
    "#standarise the data\n",
    "from sklearn.preprocessing import StandardScaler"
   ]
  },
  {
   "cell_type": "code",
   "execution_count": 102,
   "id": "39241587",
   "metadata": {},
   "outputs": [],
   "source": [
    "scaler=StandardScaler()"
   ]
  },
  {
   "cell_type": "code",
   "execution_count": 103,
   "id": "3558418b",
   "metadata": {},
   "outputs": [],
   "source": [
    "x_train=scaler.fit_transform(x_train)\n",
    "x_valid=scaler.transform(x_valid)\n",
    "x_test=scaler.transform(x_test)"
   ]
  },
  {
   "cell_type": "code",
   "execution_count": null,
   "id": "f8bb35d6",
   "metadata": {},
   "outputs": [],
   "source": []
  },
  {
   "cell_type": "code",
   "execution_count": 104,
   "id": "9fb11116",
   "metadata": {},
   "outputs": [
    {
     "data": {
      "text/plain": [
       "(11610, 8)"
      ]
     },
     "execution_count": 104,
     "metadata": {},
     "output_type": "execute_result"
    }
   ],
   "source": [
    "x_train.shape"
   ]
  },
  {
   "cell_type": "code",
   "execution_count": 105,
   "id": "2f8c8b17",
   "metadata": {},
   "outputs": [
    {
     "data": {
      "text/plain": [
       "(11610,)"
      ]
     },
     "execution_count": 105,
     "metadata": {},
     "output_type": "execute_result"
    }
   ],
   "source": [
    "y_train.shape"
   ]
  },
  {
   "cell_type": "code",
   "execution_count": 106,
   "id": "28be24c9",
   "metadata": {},
   "outputs": [
    {
     "data": {
      "text/plain": [
       "(5160, 8)"
      ]
     },
     "execution_count": 106,
     "metadata": {},
     "output_type": "execute_result"
    }
   ],
   "source": [
    "x_test.shape"
   ]
  },
  {
   "cell_type": "code",
   "execution_count": 107,
   "id": "b2944068",
   "metadata": {},
   "outputs": [
    {
     "data": {
      "text/plain": [
       "(5160,)"
      ]
     },
     "execution_count": 107,
     "metadata": {},
     "output_type": "execute_result"
    }
   ],
   "source": [
    "y_test.shape"
   ]
  },
  {
   "cell_type": "code",
   "execution_count": null,
   "id": "294f6a04",
   "metadata": {},
   "outputs": [],
   "source": []
  },
  {
   "cell_type": "code",
   "execution_count": 108,
   "id": "f82493da",
   "metadata": {},
   "outputs": [],
   "source": [
    "model=keras.models.Sequential([\n",
    "    keras.layers.Dense(30,activation=\"relu\",input_shape=[8]),\n",
    "    keras.layers.Dense(30,activation=\"relu\"),\n",
    "    keras.layers.Dense(1)\n",
    "])"
   ]
  },
  {
   "cell_type": "code",
   "execution_count": null,
   "id": "2c327fff",
   "metadata": {},
   "outputs": [],
   "source": []
  },
  {
   "cell_type": "code",
   "execution_count": null,
   "id": "8902ba31",
   "metadata": {},
   "outputs": [],
   "source": []
  },
  {
   "cell_type": "code",
   "execution_count": 109,
   "id": "8b5e755f",
   "metadata": {},
   "outputs": [
    {
     "name": "stdout",
     "output_type": "stream",
     "text": [
      "Model: \"sequential_5\"\n",
      "_________________________________________________________________\n",
      " Layer (type)                Output Shape              Param #   \n",
      "=================================================================\n",
      " dense_15 (Dense)            (None, 30)                270       \n",
      "                                                                 \n",
      " dense_16 (Dense)            (None, 30)                930       \n",
      "                                                                 \n",
      " dense_17 (Dense)            (None, 1)                 31        \n",
      "                                                                 \n",
      "=================================================================\n",
      "Total params: 1231 (4.81 KB)\n",
      "Trainable params: 1231 (4.81 KB)\n",
      "Non-trainable params: 0 (0.00 Byte)\n",
      "_________________________________________________________________\n"
     ]
    }
   ],
   "source": [
    "model.summary()"
   ]
  },
  {
   "cell_type": "code",
   "execution_count": null,
   "id": "4ff6f5d6",
   "metadata": {},
   "outputs": [],
   "source": []
  },
  {
   "cell_type": "code",
   "execution_count": 110,
   "id": "44030f8e",
   "metadata": {},
   "outputs": [],
   "source": [
    "model.compile(loss=\"mean_squared_error\",\n",
    "              optimizer=keras.optimizers.SGD(learning_rate=1e-3),\n",
    "              metrics=['mae']\n",
    "             )"
   ]
  },
  {
   "cell_type": "code",
   "execution_count": 111,
   "id": "9b334139",
   "metadata": {},
   "outputs": [
    {
     "name": "stdout",
     "output_type": "stream",
     "text": [
      "(11610, 8)\n",
      "(11610,)\n"
     ]
    }
   ],
   "source": [
    "print(x_train.shape)\n",
    "print(y_train.shape)"
   ]
  },
  {
   "cell_type": "code",
   "execution_count": 117,
   "id": "34ce78e4",
   "metadata": {},
   "outputs": [
    {
     "name": "stdout",
     "output_type": "stream",
     "text": [
      "Epoch 1/20\n",
      "363/363 [==============================] - 1s 2ms/step - loss: 0.4027 - mae: 0.4598 - val_loss: 0.4257 - val_mae: 0.4458\n",
      "Epoch 2/20\n",
      "363/363 [==============================] - 1s 3ms/step - loss: 0.3998 - mae: 0.4569 - val_loss: 0.4493 - val_mae: 0.4507\n",
      "Epoch 3/20\n",
      "363/363 [==============================] - 1s 3ms/step - loss: 0.3972 - mae: 0.4557 - val_loss: 0.4301 - val_mae: 0.4435\n",
      "Epoch 4/20\n",
      "363/363 [==============================] - 1s 2ms/step - loss: 0.3948 - mae: 0.4536 - val_loss: 0.4179 - val_mae: 0.4444\n",
      "Epoch 5/20\n",
      "363/363 [==============================] - 1s 2ms/step - loss: 0.3927 - mae: 0.4519 - val_loss: 0.4044 - val_mae: 0.4412\n",
      "Epoch 6/20\n",
      "363/363 [==============================] - 1s 2ms/step - loss: 0.3905 - mae: 0.4506 - val_loss: 0.4121 - val_mae: 0.4391\n",
      "Epoch 7/20\n",
      "363/363 [==============================] - 1s 2ms/step - loss: 0.3889 - mae: 0.4492 - val_loss: 0.4065 - val_mae: 0.4380\n",
      "Epoch 8/20\n",
      "363/363 [==============================] - 1s 2ms/step - loss: 0.3872 - mae: 0.4479 - val_loss: 0.3912 - val_mae: 0.4355\n",
      "Epoch 9/20\n",
      "363/363 [==============================] - 1s 2ms/step - loss: 0.3855 - mae: 0.4468 - val_loss: 0.3993 - val_mae: 0.4352\n",
      "Epoch 10/20\n",
      "363/363 [==============================] - 1s 2ms/step - loss: 0.3839 - mae: 0.4456 - val_loss: 0.4116 - val_mae: 0.4343\n",
      "Epoch 11/20\n",
      "363/363 [==============================] - 1s 2ms/step - loss: 0.3828 - mae: 0.4442 - val_loss: 0.3849 - val_mae: 0.4327\n",
      "Epoch 12/20\n",
      "363/363 [==============================] - 1s 2ms/step - loss: 0.3811 - mae: 0.4434 - val_loss: 0.4186 - val_mae: 0.4339\n",
      "Epoch 13/20\n",
      "363/363 [==============================] - 1s 2ms/step - loss: 0.3799 - mae: 0.4423 - val_loss: 0.4017 - val_mae: 0.4345\n",
      "Epoch 14/20\n",
      "363/363 [==============================] - 1s 2ms/step - loss: 0.3787 - mae: 0.4412 - val_loss: 0.3828 - val_mae: 0.4326\n",
      "Epoch 15/20\n",
      "363/363 [==============================] - 1s 2ms/step - loss: 0.3775 - mae: 0.4406 - val_loss: 0.3946 - val_mae: 0.4326\n",
      "Epoch 16/20\n",
      "363/363 [==============================] - 1s 2ms/step - loss: 0.3763 - mae: 0.4400 - val_loss: 0.3729 - val_mae: 0.4296\n",
      "Epoch 17/20\n",
      "363/363 [==============================] - 1s 2ms/step - loss: 0.3753 - mae: 0.4389 - val_loss: 0.3909 - val_mae: 0.4296\n",
      "Epoch 18/20\n",
      "363/363 [==============================] - 1s 2ms/step - loss: 0.3744 - mae: 0.4382 - val_loss: 0.3905 - val_mae: 0.4277\n",
      "Epoch 19/20\n",
      "363/363 [==============================] - 1s 2ms/step - loss: 0.3729 - mae: 0.4369 - val_loss: 0.3801 - val_mae: 0.4268\n",
      "Epoch 20/20\n",
      "363/363 [==============================] - 1s 3ms/step - loss: 0.3722 - mae: 0.4364 - val_loss: 0.4141 - val_mae: 0.4310\n"
     ]
    }
   ],
   "source": [
    "#train the model\n",
    "model_history=model.fit(x_train,y_train,epochs=20,validation_data=(x_valid,y_valid))\n"
   ]
  },
  {
   "cell_type": "code",
   "execution_count": 118,
   "id": "5629e770",
   "metadata": {},
   "outputs": [
    {
     "name": "stdout",
     "output_type": "stream",
     "text": [
      "162/162 [==============================] - 0s 1ms/step - loss: 0.3691 - mae: 0.4360\n"
     ]
    }
   ],
   "source": [
    "mae_test=model.evaluate(x_test,y_test)"
   ]
  },
  {
   "cell_type": "code",
   "execution_count": 119,
   "id": "38da82e3",
   "metadata": {},
   "outputs": [
    {
     "data": {
      "text/plain": [
       "{'loss': [0.4027157425880432,\n",
       "  0.3997906744480133,\n",
       "  0.3971780240535736,\n",
       "  0.3947574198246002,\n",
       "  0.39271095395088196,\n",
       "  0.3905218839645386,\n",
       "  0.38886913657188416,\n",
       "  0.3871859312057495,\n",
       "  0.38551414012908936,\n",
       "  0.383897602558136,\n",
       "  0.3827698826789856,\n",
       "  0.38110941648483276,\n",
       "  0.37994223833084106,\n",
       "  0.3787088394165039,\n",
       "  0.3774610757827759,\n",
       "  0.37628471851348877,\n",
       "  0.37528809905052185,\n",
       "  0.3743741810321808,\n",
       "  0.3729206323623657,\n",
       "  0.37223732471466064],\n",
       " 'mae': [0.4598331153392792,\n",
       "  0.4568541944026947,\n",
       "  0.4556511640548706,\n",
       "  0.4535711407661438,\n",
       "  0.45194026827812195,\n",
       "  0.45062220096588135,\n",
       "  0.44916588068008423,\n",
       "  0.4479297399520874,\n",
       "  0.44679147005081177,\n",
       "  0.44563281536102295,\n",
       "  0.44417718052864075,\n",
       "  0.44342899322509766,\n",
       "  0.4423396587371826,\n",
       "  0.4412226676940918,\n",
       "  0.44058099389076233,\n",
       "  0.4399563670158386,\n",
       "  0.4389473497867584,\n",
       "  0.4382334351539612,\n",
       "  0.43687283992767334,\n",
       "  0.436434268951416],\n",
       " 'val_loss': [0.42569947242736816,\n",
       "  0.4493364989757538,\n",
       "  0.4300842583179474,\n",
       "  0.41791045665740967,\n",
       "  0.4044089913368225,\n",
       "  0.41212162375450134,\n",
       "  0.4065187871456146,\n",
       "  0.3911639451980591,\n",
       "  0.3993258476257324,\n",
       "  0.41158074140548706,\n",
       "  0.3848755955696106,\n",
       "  0.41861674189567566,\n",
       "  0.40172919631004333,\n",
       "  0.3827860355377197,\n",
       "  0.39455315470695496,\n",
       "  0.37289944291114807,\n",
       "  0.39088955521583557,\n",
       "  0.39049986004829407,\n",
       "  0.38008448481559753,\n",
       "  0.414106547832489],\n",
       " 'val_mae': [0.44582056999206543,\n",
       "  0.45071151852607727,\n",
       "  0.44350722432136536,\n",
       "  0.44440701603889465,\n",
       "  0.4411843717098236,\n",
       "  0.4390507638454437,\n",
       "  0.4380224645137787,\n",
       "  0.43548399209976196,\n",
       "  0.43522098660469055,\n",
       "  0.4342712461948395,\n",
       "  0.43265947699546814,\n",
       "  0.4338526427745819,\n",
       "  0.4344961643218994,\n",
       "  0.4325585663318634,\n",
       "  0.4326106905937195,\n",
       "  0.42958617210388184,\n",
       "  0.4295932650566101,\n",
       "  0.42767244577407837,\n",
       "  0.4267636239528656,\n",
       "  0.43095842003822327]}"
      ]
     },
     "execution_count": 119,
     "metadata": {},
     "output_type": "execute_result"
    }
   ],
   "source": [
    "model_history.history"
   ]
  },
  {
   "cell_type": "code",
   "execution_count": 120,
   "id": "f48c3ca1",
   "metadata": {},
   "outputs": [
    {
     "data": {
      "image/png": "[encoded data removed]",
      "text/plain": [
       "<Figure size 800x500 with 1 Axes>"
      ]
     },
     "metadata": {},
     "output_type": "display_data"
    }
   ],
   "source": [
    "pd.DataFrame(model_history.history).plot(figsize=(8,5))\n",
    "plt.grid(True)\n",
    "plt.gca().set_ylim(0,1)\n",
    "plt.show()"
   ]
  },
  {
   "cell_type": "code",
   "execution_count": 116,
   "id": "d499828f",
   "metadata": {},
   "outputs": [],
   "source": [
    "#graph is going down wrt more epochs hence converges down we get correct model\n"
   ]
  },
  {
   "cell_type": "code",
   "execution_count": 121,
   "id": "889a7d07",
   "metadata": {},
   "outputs": [],
   "source": [
    "x_new=x_test[:3]"
   ]
  },
  {
   "cell_type": "code",
   "execution_count": 125,
   "id": "f76af32f",
   "metadata": {},
   "outputs": [
    {
     "name": "stdout",
     "output_type": "stream",
     "text": [
      "1/1 [==============================] - 0s 22ms/step\n",
      "[[0.76902384]\n",
      " [1.9378378 ]\n",
      " [3.90417   ]]\n",
      "[0.477   0.458   5.00001]\n"
     ]
    }
   ],
   "source": [
    "y_pred=model.predict(x_new)\n",
    "print(y_pred)\n",
    "print(y_test[:3])"
   ]
  },
  {
   "cell_type": "code",
   "execution_count": 126,
   "id": "a49949b8",
   "metadata": {},
   "outputs": [
    {
     "data": {
      "text/plain": [
       "<function keras.src.backend.clear_session()>"
      ]
     },
     "execution_count": 126,
     "metadata": {},
     "output_type": "execute_result"
    }
   ],
   "source": [
    "del model\n",
    "keras.backend.clear_session"
   ]
  },
  {
   "cell_type": "code",
   "execution_count": 129,
   "id": "d3ddf433",
   "metadata": {},
   "outputs": [],
   "source": [
    "#Functionla API\n",
    "\n",
    "input_=keras.layers.Input(shape=x_train.shape[1:])\n",
    "hidden1=keras.layers.Dense(30,activation=\"relu\")(input_)\n",
    "hidden2=keras.layers.Dense(30,activation=\"relu\")(hidden1)\n",
    "concat=keras.layers.concatenate([input_,hidden2])\n",
    "output=keras.layers.Dense(1)(concat)\n",
    "model=keras.models.Model(inputs=[input_],outputs=[output])"
   ]
  },
  {
   "cell_type": "code",
   "execution_count": 130,
   "id": "06271434",
   "metadata": {},
   "outputs": [
    {
     "name": "stdout",
     "output_type": "stream",
     "text": [
      "Model: \"model\"\n",
      "__________________________________________________________________________________________________\n",
      " Layer (type)                Output Shape                 Param #   Connected to                  \n",
      "==================================================================================================\n",
      " input_3 (InputLayer)        [(None, 8)]                  0         []                            \n",
      "                                                                                                  \n",
      " dense_20 (Dense)            (None, 30)                   270       ['input_3[0][0]']             \n",
      "                                                                                                  \n",
      " dense_21 (Dense)            (None, 30)                   930       ['dense_20[0][0]']            \n",
      "                                                                                                  \n",
      " concatenate (Concatenate)   (None, 38)                   0         ['input_3[0][0]',             \n",
      "                                                                     'dense_21[0][0]']            \n",
      "                                                                                                  \n",
      " dense_22 (Dense)            (None, 1)                    39        ['concatenate[0][0]']         \n",
      "                                                                                                  \n",
      "==================================================================================================\n",
      "Total params: 1239 (4.84 KB)\n",
      "Trainable params: 1239 (4.84 KB)\n",
      "Non-trainable params: 0 (0.00 Byte)\n",
      "__________________________________________________________________________________________________\n"
     ]
    }
   ],
   "source": [
    "model.summary()"
   ]
  },
  {
   "cell_type": "code",
   "execution_count": 132,
   "id": "ece208cd",
   "metadata": {},
   "outputs": [],
   "source": [
    "model.compile(loss=\"mean_squared_error\", optimizer=keras.optimizers.SGD(learning_rate=1e-3), metrics=['mae'])"
   ]
  },
  {
   "cell_type": "code",
   "execution_count": 138,
   "id": "13d47be9",
   "metadata": {},
   "outputs": [
    {
     "name": "stdout",
     "output_type": "stream",
     "text": [
      "Epoch 1/20\n",
      "363/363 [==============================] - 1s 4ms/step - loss: 0.4096 - mae: 0.4585 - val_loss: 0.3875 - val_mae: 0.4436\n",
      "Epoch 2/20\n",
      "363/363 [==============================] - 1s 4ms/step - loss: 0.4066 - mae: 0.4562 - val_loss: 0.3985 - val_mae: 0.4475\n",
      "Epoch 3/20\n",
      "363/363 [==============================] - 1s 3ms/step - loss: 0.4043 - mae: 0.4558 - val_loss: 0.3811 - val_mae: 0.4401\n",
      "Epoch 4/20\n",
      "363/363 [==============================] - 1s 3ms/step - loss: 0.4011 - mae: 0.4534 - val_loss: 0.3783 - val_mae: 0.4427\n",
      "Epoch 5/20\n",
      "363/363 [==============================] - 1s 3ms/step - loss: 0.3992 - mae: 0.4527 - val_loss: 0.3752 - val_mae: 0.4381\n",
      "Epoch 6/20\n",
      "363/363 [==============================] - 1s 3ms/step - loss: 0.3962 - mae: 0.4510 - val_loss: 0.3780 - val_mae: 0.4378\n",
      "Epoch 7/20\n",
      "363/363 [==============================] - 1s 3ms/step - loss: 0.3946 - mae: 0.4496 - val_loss: 0.3699 - val_mae: 0.4352\n",
      "Epoch 8/20\n",
      "363/363 [==============================] - 1s 4ms/step - loss: 0.3923 - mae: 0.4483 - val_loss: 0.3848 - val_mae: 0.4362\n",
      "Epoch 9/20\n",
      "363/363 [==============================] - 1s 3ms/step - loss: 0.3902 - mae: 0.4473 - val_loss: 0.3709 - val_mae: 0.4335\n",
      "Epoch 10/20\n",
      "363/363 [==============================] - 1s 3ms/step - loss: 0.3885 - mae: 0.4462 - val_loss: 0.3680 - val_mae: 0.4315\n",
      "Epoch 11/20\n",
      "363/363 [==============================] - 1s 4ms/step - loss: 0.3870 - mae: 0.4445 - val_loss: 0.3969 - val_mae: 0.4344\n",
      "Epoch 12/20\n",
      "363/363 [==============================] - 1s 3ms/step - loss: 0.3851 - mae: 0.4437 - val_loss: 0.3965 - val_mae: 0.4341\n",
      "Epoch 13/20\n",
      "363/363 [==============================] - 1s 3ms/step - loss: 0.3841 - mae: 0.4428 - val_loss: 0.3621 - val_mae: 0.4320\n",
      "Epoch 14/20\n",
      "363/363 [==============================] - 1s 3ms/step - loss: 0.3822 - mae: 0.4417 - val_loss: 0.3714 - val_mae: 0.4326\n",
      "Epoch 15/20\n",
      "363/363 [==============================] - 1s 3ms/step - loss: 0.3806 - mae: 0.4411 - val_loss: 0.3596 - val_mae: 0.4289\n",
      "Epoch 16/20\n",
      "363/363 [==============================] - 1s 3ms/step - loss: 0.3795 - mae: 0.4403 - val_loss: 0.3742 - val_mae: 0.4310\n",
      "Epoch 17/20\n",
      "363/363 [==============================] - 1s 3ms/step - loss: 0.3778 - mae: 0.4392 - val_loss: 0.3587 - val_mae: 0.4270\n",
      "Epoch 18/20\n",
      "363/363 [==============================] - 1s 3ms/step - loss: 0.3772 - mae: 0.4384 - val_loss: 0.3558 - val_mae: 0.4255\n",
      "Epoch 19/20\n",
      "363/363 [==============================] - 1s 3ms/step - loss: 0.3754 - mae: 0.4374 - val_loss: 0.3546 - val_mae: 0.4254\n",
      "Epoch 20/20\n",
      "363/363 [==============================] - 1s 3ms/step - loss: 0.3744 - mae: 0.4367 - val_loss: 0.3694 - val_mae: 0.4286\n"
     ]
    }
   ],
   "source": [
    "model_history=model.fit(x_train,y_train,epochs=20, validation_data=(x_valid,y_valid))"
   ]
  },
  {
   "cell_type": "code",
   "execution_count": 139,
   "id": "8f461f98",
   "metadata": {},
   "outputs": [
    {
     "name": "stdout",
     "output_type": "stream",
     "text": [
      "162/162 [==============================] - 1s 3ms/step - loss: 0.3703 - mae: 0.4347\n"
     ]
    }
   ],
   "source": [
    "model_test=model.evaluate(x_test,y_test)"
   ]
  },
  {
   "cell_type": "code",
   "execution_count": 140,
   "id": "4a9989fd",
   "metadata": {},
   "outputs": [
    {
     "data": {
      "text/plain": [
       "{'loss': [0.4096227288246155,\n",
       "  0.40658852458000183,\n",
       "  0.4043441116809845,\n",
       "  0.4010898768901825,\n",
       "  0.3992343842983246,\n",
       "  0.3962441384792328,\n",
       "  0.39464470744132996,\n",
       "  0.3923444449901581,\n",
       "  0.3902372717857361,\n",
       "  0.38854870200157166,\n",
       "  0.3869796395301819,\n",
       "  0.3850512206554413,\n",
       "  0.3840700089931488,\n",
       "  0.38220274448394775,\n",
       "  0.38062599301338196,\n",
       "  0.3794749975204468,\n",
       "  0.37780827283859253,\n",
       "  0.37715694308280945,\n",
       "  0.3754054307937622,\n",
       "  0.3743841052055359],\n",
       " 'mae': [0.4584660232067108,\n",
       "  0.456236332654953,\n",
       "  0.45581021904945374,\n",
       "  0.4534231126308441,\n",
       "  0.4526645541191101,\n",
       "  0.451007217168808,\n",
       "  0.4495648443698883,\n",
       "  0.4483245313167572,\n",
       "  0.4473276734352112,\n",
       "  0.44615280628204346,\n",
       "  0.44450533390045166,\n",
       "  0.44372615218162537,\n",
       "  0.44276103377342224,\n",
       "  0.4416735768318176,\n",
       "  0.4410801827907562,\n",
       "  0.4403137266635895,\n",
       "  0.43924078345298767,\n",
       "  0.4384404420852661,\n",
       "  0.4374156892299652,\n",
       "  0.4366503357887268],\n",
       " 'val_loss': [0.38748690485954285,\n",
       "  0.398477703332901,\n",
       "  0.3811013102531433,\n",
       "  0.37830695509910583,\n",
       "  0.3752063512802124,\n",
       "  0.37795746326446533,\n",
       "  0.36992552876472473,\n",
       "  0.384784460067749,\n",
       "  0.37088751792907715,\n",
       "  0.3679554760456085,\n",
       "  0.3969170153141022,\n",
       "  0.3964855372905731,\n",
       "  0.3621487319469452,\n",
       "  0.37135475873947144,\n",
       "  0.3596387803554535,\n",
       "  0.37415647506713867,\n",
       "  0.3586762547492981,\n",
       "  0.3558301329612732,\n",
       "  0.35457777976989746,\n",
       "  0.3694467842578888],\n",
       " 'val_mae': [0.4435725510120392,\n",
       "  0.44745174050331116,\n",
       "  0.4400557577610016,\n",
       "  0.4427165687084198,\n",
       "  0.4381238520145416,\n",
       "  0.4378404915332794,\n",
       "  0.4352206289768219,\n",
       "  0.4361676871776581,\n",
       "  0.43349161744117737,\n",
       "  0.4315016269683838,\n",
       "  0.43441084027290344,\n",
       "  0.43406185507774353,\n",
       "  0.4319525957107544,\n",
       "  0.432588666677475,\n",
       "  0.4289492964744568,\n",
       "  0.430983304977417,\n",
       "  0.4270310401916504,\n",
       "  0.42545169591903687,\n",
       "  0.42535316944122314,\n",
       "  0.42862391471862793]}"
      ]
     },
     "execution_count": 140,
     "metadata": {},
     "output_type": "execute_result"
    }
   ],
   "source": [
    "#loss=0.404\n",
    "model_history.history"
   ]
  },
  {
   "cell_type": "code",
   "execution_count": 137,
   "id": "1d7a0c71",
   "metadata": {},
   "outputs": [
    {
     "data": {
      "image/png": "[encoded data removed]",
      "text/plain": [
       "<Figure size 800x500 with 1 Axes>"
      ]
     },
     "metadata": {},
     "output_type": "display_data"
    }
   ],
   "source": [
    "pd.DataFrame(model_history.history).plot(figsize=(8,5))\n",
    "plt.grid(True)\n",
    "plt.gca().set_ylim(0,1)\n",
    "plt.show()"
   ]
  },
  {
   "cell_type": "code",
   "execution_count": 141,
   "id": "0ac3c95c",
   "metadata": {},
   "outputs": [
    {
     "data": {
      "image/png": "[encoded data removed]",
      "text/plain": [
       "<Figure size 800x500 with 1 Axes>"
      ]
     },
     "metadata": {},
     "output_type": "display_data"
    }
   ],
   "source": [
    "#scope of improvement therefore we will run again 20 epochs \n",
    "\n",
    "\n",
    "\n",
    "pd.DataFrame(model_history.history).plot(figsize=(8,5))\n",
    "plt.grid(True)\n",
    "plt.gca().set_ylim(0,1)\n",
    "plt.show()"
   ]
  },
  {
   "cell_type": "code",
   "execution_count": 142,
   "id": "f414b7c9",
   "metadata": {},
   "outputs": [],
   "source": [
    "#performance increases"
   ]
  },
  {
   "cell_type": "code",
   "execution_count": 143,
   "id": "a68a0afa",
   "metadata": {},
   "outputs": [
    {
     "name": "stderr",
     "output_type": "stream",
     "text": [
      "C:\\Users\\AYUSH SINGH\\AppData\\Roaming\\Python\\Python310\\site-packages\\keras\\src\\engine\\training.py:3000: UserWarning: You are saving your model as an HDF5 file via `model.save()`. This file format is considered legacy. We recommend using instead the native Keras format, e.g. `model.save('my_model.keras')`.\n",
      "  saving_api.save_model(\n"
     ]
    }
   ],
   "source": [
    "model.save(\"my_Func_model.h5\")#name of model .h5\n"
   ]
  },
  {
   "cell_type": "code",
   "execution_count": 144,
   "id": "adfe2ce7",
   "metadata": {},
   "outputs": [
    {
     "data": {
      "text/plain": [
       "'C:\\\\Users\\\\AYUSH SINGH\\\\projects_ML'"
      ]
     },
     "execution_count": 144,
     "metadata": {},
     "output_type": "execute_result"
    }
   ],
   "source": [
    "%pwd"
   ]
  },
  {
   "cell_type": "code",
   "execution_count": 145,
   "id": "e90b5cc7",
   "metadata": {},
   "outputs": [],
   "source": [
    "del model "
   ]
  },
  {
   "cell_type": "code",
   "execution_count": 147,
   "id": "9e92e520",
   "metadata": {},
   "outputs": [],
   "source": [
    "keras.backend.clear_session()"
   ]
  },
  {
   "cell_type": "code",
   "execution_count": 148,
   "id": "60116a3f",
   "metadata": {},
   "outputs": [],
   "source": [
    "model=keras.models.load_model(\"my_Func_model.h5\")"
   ]
  },
  {
   "cell_type": "code",
   "execution_count": 149,
   "id": "4161d366",
   "metadata": {},
   "outputs": [
    {
     "name": "stdout",
     "output_type": "stream",
     "text": [
      "Model: \"model\"\n",
      "__________________________________________________________________________________________________\n",
      " Layer (type)                Output Shape                 Param #   Connected to                  \n",
      "==================================================================================================\n",
      " input_3 (InputLayer)        [(None, 8)]                  0         []                            \n",
      "                                                                                                  \n",
      " dense_20 (Dense)            (None, 30)                   270       ['input_3[0][0]']             \n",
      "                                                                                                  \n",
      " dense_21 (Dense)            (None, 30)                   930       ['dense_20[0][0]']            \n",
      "                                                                                                  \n",
      " concatenate (Concatenate)   (None, 38)                   0         ['input_3[0][0]',             \n",
      "                                                                     'dense_21[0][0]']            \n",
      "                                                                                                  \n",
      " dense_22 (Dense)            (None, 1)                    39        ['concatenate[0][0]']         \n",
      "                                                                                                  \n",
      "==================================================================================================\n",
      "Total params: 1239 (4.84 KB)\n",
      "Trainable params: 1239 (4.84 KB)\n",
      "Non-trainable params: 0 (0.00 Byte)\n",
      "__________________________________________________________________________________________________\n"
     ]
    }
   ],
   "source": [
    "model.summary()"
   ]
  },
  {
   "cell_type": "code",
   "execution_count": 150,
   "id": "05ff9533",
   "metadata": {},
   "outputs": [
    {
     "name": "stdout",
     "output_type": "stream",
     "text": [
      "1/1 [==============================] - 0s 67ms/step\n",
      "[[0.7403848]\n",
      " [1.8040783]\n",
      " [3.7823489]]\n"
     ]
    }
   ],
   "source": [
    "y_pred=model.predict(x_new)\n",
    "print(y_pred)"
   ]
  },
  {
   "cell_type": "code",
   "execution_count": 151,
   "id": "127ad9b6",
   "metadata": {},
   "outputs": [],
   "source": [
    "#usualy we have a large datasets  which can take upto 8 to 10 hours  to train the mosel for this ewe use callbacks\n",
    "\n",
    "# just like checkpoint allow you to save the model at every checkpoint\n"
   ]
  },
  {
   "cell_type": "code",
   "execution_count": 152,
   "id": "331712e9",
   "metadata": {},
   "outputs": [],
   "source": [
    "#using callbacks duriong training"
   ]
  },
  {
   "cell_type": "code",
   "execution_count": 154,
   "id": "3b3f78b5",
   "metadata": {},
   "outputs": [],
   "source": [
    "keras.backend.clear_session()\n",
    "np.random.seed(42)\n",
    "tf.random.set_seed(42)"
   ]
  },
  {
   "cell_type": "code",
   "execution_count": 155,
   "id": "9bfcb3de",
   "metadata": {},
   "outputs": [],
   "source": [
    "model=keras.models.Sequential([\n",
    "    keras.layers.Dense(30,activation=\"relu\",input_shape=[8]),\n",
    "    keras.layers.Dense(30,activation=\"relu\"),\n",
    "    keras.layers.Dense(1)\n",
    "])"
   ]
  },
  {
   "cell_type": "code",
   "execution_count": 183,
   "id": "fab6f338",
   "metadata": {},
   "outputs": [],
   "source": [
    "model.compile(loss=\"mse\",optimizer=keras.optimizers.SGD(learning_rate=1e-3))"
   ]
  },
  {
   "cell_type": "code",
   "execution_count": 157,
   "id": "06d4f7f0",
   "metadata": {},
   "outputs": [],
   "source": [
    "#checkpoint create\n",
    "checkpoint_cb=keras.callbacks.ModelCheckpoint(\"Model-{epoch:02d}.h5\")#10 file created for each epochs  Model-{epoch:02d}.h5 "
   ]
  },
  {
   "cell_type": "code",
   "execution_count": 158,
   "id": "0038f530",
   "metadata": {},
   "outputs": [
    {
     "name": "stdout",
     "output_type": "stream",
     "text": [
      "Epoch 1/10\n",
      "363/363 [==============================] - 1s 1ms/step - loss: 2.5088 - val_loss: 2.1146\n",
      "Epoch 2/10\n",
      "363/363 [==============================] - 0s 1ms/step - loss: 0.7517 - val_loss: 0.7942\n",
      "Epoch 3/10\n",
      "363/363 [==============================] - 1s 1ms/step - loss: 0.6530 - val_loss: 0.6086\n",
      "Epoch 4/10\n",
      "363/363 [==============================] - 0s 1ms/step - loss: 0.6118 - val_loss: 0.5757\n",
      "Epoch 5/10\n",
      "363/363 [==============================] - 0s 1ms/step - loss: 0.5810 - val_loss: 0.5464\n",
      "Epoch 6/10\n",
      "363/363 [==============================] - 1s 2ms/step - loss: 0.5526 - val_loss: 0.5200\n",
      "Epoch 7/10\n",
      "363/363 [==============================] - 1s 2ms/step - loss: 0.5286 - val_loss: 0.5033\n",
      "Epoch 8/10\n",
      "363/363 [==============================] - 1s 2ms/step - loss: 0.5070 - val_loss: 0.4782\n",
      "Epoch 9/10\n",
      "363/363 [==============================] - 1s 2ms/step - loss: 0.4887 - val_loss: 0.4572\n",
      "Epoch 10/10\n",
      "363/363 [==============================] - 1s 2ms/step - loss: 0.4733 - val_loss: 0.4422\n"
     ]
    }
   ],
   "source": [
    "#train the model\n",
    "history=model.fit(x_train,y_train,epochs=10,validation_data=(x_valid,y_valid),callbacks=[checkpoint_cb])\n"
   ]
  },
  {
   "cell_type": "code",
   "execution_count": 175,
   "id": "e8612385",
   "metadata": {},
   "outputs": [],
   "source": [
    "del model \n",
    "keras.backend.clear_session()"
   ]
  },
  {
   "cell_type": "code",
   "execution_count": 176,
   "id": "517d0d1f",
   "metadata": {},
   "outputs": [],
   "source": [
    "model=keras.models.load_model(\"Model-10.h5\")"
   ]
  },
  {
   "cell_type": "code",
   "execution_count": 177,
   "id": "290383ac",
   "metadata": {},
   "outputs": [
    {
     "name": "stdout",
     "output_type": "stream",
     "text": [
      "162/162 [==============================] - 0s 754us/step - loss: 0.4517\n"
     ]
    }
   ],
   "source": [
    "mse_test=model.evaluate(x_test,y_test)"
   ]
  },
  {
   "cell_type": "code",
   "execution_count": 178,
   "id": "76094e54",
   "metadata": {},
   "outputs": [],
   "source": [
    "# we want the best model loss minimum "
   ]
  },
  {
   "cell_type": "code",
   "execution_count": 189,
   "id": "350c2005",
   "metadata": {},
   "outputs": [],
   "source": [
    "del model \n",
    "keras.backend.clear_session()"
   ]
  },
  {
   "cell_type": "code",
   "execution_count": 190,
   "id": "1edb19cc",
   "metadata": {},
   "outputs": [],
   "source": [
    "model=keras.models.Sequential([\n",
    "    keras.layers.Dense(30,activation=\"relu\",input_shape=[8]),\n",
    "    keras.layers.Dense(30,activation=\"relu\"),\n",
    "    keras.layers.Dense(1)\n",
    "])"
   ]
  },
  {
   "cell_type": "code",
   "execution_count": 197,
   "id": "25d65af6",
   "metadata": {},
   "outputs": [],
   "source": [
    "#checkpoint create\n",
    "checkpoint_cb=keras.callbacks.ModelCheckpoint(\"Best_Model.h5\",save_best_only=True)#10 file created for each epochs  Model-{epoch:02d}.h5 "
   ]
  },
  {
   "cell_type": "code",
   "execution_count": 198,
   "id": "9a62f26f",
   "metadata": {},
   "outputs": [],
   "source": [
    "model.compile(loss=\"mse\",optimizer=keras.optimizers.SGD(learning_rate=1e-3))"
   ]
  },
  {
   "cell_type": "code",
   "execution_count": 199,
   "id": "6359a203",
   "metadata": {},
   "outputs": [
    {
     "name": "stdout",
     "output_type": "stream",
     "text": [
      "Epoch 1/10\n",
      "363/363 [==============================] - 1s 1ms/step - loss: 2.3753 - val_loss: 1.3739\n",
      "Epoch 2/10\n",
      "363/363 [==============================] - 1s 2ms/step - loss: 0.8819 - val_loss: 0.7396\n",
      "Epoch 3/10\n",
      "363/363 [==============================] - 0s 1ms/step - loss: 0.7268 - val_loss: 0.6960\n",
      "Epoch 4/10\n",
      "363/363 [==============================] - 0s 1ms/step - loss: 0.6684 - val_loss: 0.6436\n",
      "Epoch 5/10\n",
      "363/363 [==============================] - 0s 1ms/step - loss: 0.6237 - val_loss: 0.6004\n",
      "Epoch 6/10\n",
      "363/363 [==============================] - 0s 1ms/step - loss: 0.5827 - val_loss: 0.5643\n",
      "Epoch 7/10\n",
      "363/363 [==============================] - 0s 1ms/step - loss: 0.5466 - val_loss: 0.5361\n",
      "Epoch 8/10\n",
      "363/363 [==============================] - 0s 1ms/step - loss: 0.5140 - val_loss: 0.4982\n",
      "Epoch 9/10\n",
      "363/363 [==============================] - 0s 1ms/step - loss: 0.4868 - val_loss: 0.4703\n",
      "Epoch 10/10\n",
      "363/363 [==============================] - 0s 1ms/step - loss: 0.4653 - val_loss: 0.4479\n"
     ]
    }
   ],
   "source": [
    "#train the model\n",
    "history=model.fit(x_train,y_train,epochs=10,validation_data=(x_valid,y_valid),callbacks=[checkpoint_cb])\n"
   ]
  },
  {
   "cell_type": "code",
   "execution_count": 200,
   "id": "eb7a64ed",
   "metadata": {},
   "outputs": [
    {
     "name": "stdout",
     "output_type": "stream",
     "text": [
      "162/162 [==============================] - 0s 742us/step - loss: 0.4436\n"
     ]
    }
   ],
   "source": [
    "model=keras.models.load_model(\"Best_Model.h5\")#rollback to best model\n",
    "mse_test=model.evaluate(x_test,y_test)"
   ]
  },
  {
   "cell_type": "code",
   "execution_count": null,
   "id": "1eb1c2ee",
   "metadata": {},
   "outputs": [],
   "source": []
  },
  {
   "cell_type": "code",
   "execution_count": null,
   "id": "4399934f",
   "metadata": {},
   "outputs": [],
   "source": []
  },
  {
   "cell_type": "code",
   "execution_count": 201,
   "id": "f3283789",
   "metadata": {},
   "outputs": [],
   "source": [
    "#we use early stop for large epocs say 200 our performance is decrecrsing from 60th epoch so we stop at 60 and choose the best model .\n",
    "#best way to train the models"
   ]
  },
  {
   "cell_type": "code",
   "execution_count": 202,
   "id": "87e2171a",
   "metadata": {},
   "outputs": [],
   "source": [
    "del model \n",
    "keras.backend.clear_session()"
   ]
  },
  {
   "cell_type": "code",
   "execution_count": 203,
   "id": "919dc42b",
   "metadata": {},
   "outputs": [],
   "source": [
    "model=keras.models.Sequential([\n",
    "    keras.layers.Dense(30,activation=\"relu\",input_shape=[8]),\n",
    "    keras.layers.Dense(30,activation=\"relu\"),\n",
    "    keras.layers.Dense(1)\n",
    "])"
   ]
  },
  {
   "cell_type": "code",
   "execution_count": 205,
   "id": "b135021a",
   "metadata": {},
   "outputs": [],
   "source": [
    "#checkpoint create\n",
    "checkpoint_cb=keras.callbacks.ModelCheckpoint(\"early_stop_model.h5\",save_best_only=True)#10 file created for each epochs  Model-{epoch:02d}.h5 "
   ]
  },
  {
   "cell_type": "code",
   "execution_count": 206,
   "id": "b182869e",
   "metadata": {},
   "outputs": [],
   "source": [
    "\n",
    "early_stopping_cb=keras.callbacks.EarlyStopping(patience=10,restore_best_weights=True)#"
   ]
  },
  {
   "cell_type": "code",
   "execution_count": 208,
   "id": "10823fa5",
   "metadata": {},
   "outputs": [],
   "source": [
    "model.compile(loss=\"mse\",optimizer=keras.optimizers.SGD(learning_rate=1e-3))"
   ]
  },
  {
   "cell_type": "code",
   "execution_count": 211,
   "id": "e12c7a96",
   "metadata": {},
   "outputs": [
    {
     "name": "stdout",
     "output_type": "stream",
     "text": [
      "Epoch 1/200\n",
      "363/363 [==============================] - 1s 2ms/step - loss: 0.4108 - val_loss: 0.3983\n",
      "Epoch 2/200\n",
      "363/363 [==============================] - 1s 2ms/step - loss: 0.4060 - val_loss: 0.4712\n",
      "Epoch 3/200\n",
      "363/363 [==============================] - 1s 2ms/step - loss: 0.4025 - val_loss: 0.4417\n",
      "Epoch 4/200\n",
      "363/363 [==============================] - 1s 2ms/step - loss: 0.3986 - val_loss: 0.4014\n",
      "Epoch 5/200\n",
      "363/363 [==============================] - 1s 2ms/step - loss: 0.3957 - val_loss: 0.3751\n",
      "Epoch 6/200\n",
      "363/363 [==============================] - 1s 2ms/step - loss: 0.3921 - val_loss: 0.4453\n",
      "Epoch 7/200\n",
      "363/363 [==============================] - 1s 2ms/step - loss: 0.3904 - val_loss: 0.3863\n",
      "Epoch 8/200\n",
      "363/363 [==============================] - 1s 2ms/step - loss: 0.3878 - val_loss: 0.3623\n",
      "Epoch 9/200\n",
      "363/363 [==============================] - 1s 2ms/step - loss: 0.3856 - val_loss: 0.3875\n",
      "Epoch 10/200\n",
      "363/363 [==============================] - 1s 2ms/step - loss: 0.3836 - val_loss: 0.4119\n",
      "Epoch 11/200\n",
      "363/363 [==============================] - 1s 2ms/step - loss: 0.3823 - val_loss: 0.3547\n",
      "Epoch 12/200\n",
      "363/363 [==============================] - 1s 2ms/step - loss: 0.3799 - val_loss: 0.4618\n",
      "Epoch 13/200\n",
      "363/363 [==============================] - 1s 2ms/step - loss: 0.3794 - val_loss: 0.3677\n",
      "Epoch 14/200\n",
      "363/363 [==============================] - 1s 2ms/step - loss: 0.3773 - val_loss: 0.3598\n",
      "Epoch 15/200\n",
      "363/363 [==============================] - 1s 2ms/step - loss: 0.3761 - val_loss: 0.3733\n",
      "Epoch 16/200\n",
      "363/363 [==============================] - 1s 2ms/step - loss: 0.3749 - val_loss: 0.3511\n",
      "Epoch 17/200\n",
      "363/363 [==============================] - 1s 2ms/step - loss: 0.3734 - val_loss: 0.4090\n",
      "Epoch 18/200\n",
      "363/363 [==============================] - 1s 2ms/step - loss: 0.3727 - val_loss: 0.3817\n",
      "Epoch 19/200\n",
      "363/363 [==============================] - 1s 2ms/step - loss: 0.3713 - val_loss: 0.3583\n",
      "Epoch 20/200\n",
      "363/363 [==============================] - 1s 2ms/step - loss: 0.3702 - val_loss: 0.4332\n",
      "Epoch 21/200\n",
      "363/363 [==============================] - 1s 2ms/step - loss: 0.3695 - val_loss: 0.3724\n",
      "Epoch 22/200\n",
      "363/363 [==============================] - 1s 2ms/step - loss: 0.3682 - val_loss: 0.4265\n",
      "Epoch 23/200\n",
      "363/363 [==============================] - 1s 2ms/step - loss: 0.3676 - val_loss: 0.3442\n",
      "Epoch 24/200\n",
      "363/363 [==============================] - 1s 2ms/step - loss: 0.3665 - val_loss: 0.3927\n",
      "Epoch 25/200\n",
      "363/363 [==============================] - 1s 2ms/step - loss: 0.3656 - val_loss: 0.4004\n",
      "Epoch 26/200\n",
      "363/363 [==============================] - 1s 2ms/step - loss: 0.3648 - val_loss: 0.3968\n",
      "Epoch 27/200\n",
      "363/363 [==============================] - 1s 2ms/step - loss: 0.3645 - val_loss: 0.3407\n",
      "Epoch 28/200\n",
      "363/363 [==============================] - 1s 2ms/step - loss: 0.3634 - val_loss: 0.3896\n",
      "Epoch 29/200\n",
      "363/363 [==============================] - 1s 2ms/step - loss: 0.3629 - val_loss: 0.3487\n",
      "Epoch 30/200\n",
      "363/363 [==============================] - 1s 2ms/step - loss: 0.3617 - val_loss: 0.4010\n",
      "Epoch 31/200\n",
      "363/363 [==============================] - 1s 2ms/step - loss: 0.3612 - val_loss: 0.3613\n",
      "Epoch 32/200\n",
      "363/363 [==============================] - 1s 2ms/step - loss: 0.3603 - val_loss: 0.3800\n",
      "Epoch 33/200\n",
      "363/363 [==============================] - 1s 2ms/step - loss: 0.3604 - val_loss: 0.3379\n",
      "Epoch 34/200\n",
      "363/363 [==============================] - 1s 2ms/step - loss: 0.3592 - val_loss: 0.3457\n",
      "Epoch 35/200\n",
      "363/363 [==============================] - 1s 2ms/step - loss: 0.3586 - val_loss: 0.3906\n",
      "Epoch 36/200\n",
      "363/363 [==============================] - 1s 2ms/step - loss: 0.3583 - val_loss: 0.3399\n",
      "Epoch 37/200\n",
      "363/363 [==============================] - 1s 2ms/step - loss: 0.3577 - val_loss: 0.3774\n",
      "Epoch 38/200\n",
      "363/363 [==============================] - 1s 2ms/step - loss: 0.3571 - val_loss: 0.3375\n",
      "Epoch 39/200\n",
      "363/363 [==============================] - 1s 2ms/step - loss: 0.3564 - val_loss: 0.3418\n",
      "Epoch 40/200\n",
      "363/363 [==============================] - 1s 2ms/step - loss: 0.3558 - val_loss: 0.3463\n",
      "Epoch 41/200\n",
      "363/363 [==============================] - 1s 2ms/step - loss: 0.3555 - val_loss: 0.3687\n",
      "Epoch 42/200\n",
      "363/363 [==============================] - 1s 1ms/step - loss: 0.3551 - val_loss: 0.3606\n",
      "Epoch 43/200\n",
      "363/363 [==============================] - 0s 1ms/step - loss: 0.3540 - val_loss: 0.3845\n",
      "Epoch 44/200\n",
      "363/363 [==============================] - 1s 2ms/step - loss: 0.3539 - val_loss: 0.3667\n",
      "Epoch 45/200\n",
      "363/363 [==============================] - 1s 2ms/step - loss: 0.3535 - val_loss: 0.3344\n",
      "Epoch 46/200\n",
      "363/363 [==============================] - 0s 1ms/step - loss: 0.3526 - val_loss: 0.3469\n",
      "Epoch 47/200\n",
      "363/363 [==============================] - 0s 1ms/step - loss: 0.3523 - val_loss: 0.3576\n",
      "Epoch 48/200\n",
      "363/363 [==============================] - 0s 1ms/step - loss: 0.3519 - val_loss: 0.3558\n",
      "Epoch 49/200\n",
      "363/363 [==============================] - 0s 1ms/step - loss: 0.3518 - val_loss: 0.3322\n",
      "Epoch 50/200\n",
      "363/363 [==============================] - 0s 1ms/step - loss: 0.3509 - val_loss: 0.3318\n",
      "Epoch 51/200\n",
      "363/363 [==============================] - 0s 1ms/step - loss: 0.3503 - val_loss: 0.3561\n",
      "Epoch 52/200\n",
      "363/363 [==============================] - 0s 1ms/step - loss: 0.3502 - val_loss: 0.3339\n",
      "Epoch 53/200\n",
      "363/363 [==============================] - 0s 1ms/step - loss: 0.3495 - val_loss: 0.4000\n",
      "Epoch 54/200\n",
      "363/363 [==============================] - 0s 1ms/step - loss: 0.3494 - val_loss: 0.3308\n",
      "Epoch 55/200\n",
      "363/363 [==============================] - 1s 1ms/step - loss: 0.3488 - val_loss: 0.3455\n",
      "Epoch 56/200\n",
      "363/363 [==============================] - 0s 1ms/step - loss: 0.3482 - val_loss: 0.3310\n",
      "Epoch 57/200\n",
      "363/363 [==============================] - 1s 2ms/step - loss: 0.3477 - val_loss: 0.3288\n",
      "Epoch 58/200\n",
      "363/363 [==============================] - 0s 1ms/step - loss: 0.3471 - val_loss: 0.3848\n",
      "Epoch 59/200\n",
      "363/363 [==============================] - 0s 1ms/step - loss: 0.3472 - val_loss: 0.3393\n",
      "Epoch 60/200\n",
      "363/363 [==============================] - 0s 1ms/step - loss: 0.3466 - val_loss: 0.3305\n",
      "Epoch 61/200\n",
      "363/363 [==============================] - 0s 1ms/step - loss: 0.3457 - val_loss: 0.3451\n",
      "Epoch 62/200\n",
      "363/363 [==============================] - 0s 1ms/step - loss: 0.3457 - val_loss: 0.3524\n",
      "Epoch 63/200\n",
      "363/363 [==============================] - 1s 1ms/step - loss: 0.3450 - val_loss: 0.3282\n",
      "Epoch 64/200\n",
      "363/363 [==============================] - 0s 1ms/step - loss: 0.3449 - val_loss: 0.3268\n",
      "Epoch 65/200\n",
      "363/363 [==============================] - 0s 1ms/step - loss: 0.3443 - val_loss: 0.3276\n",
      "Epoch 66/200\n",
      "363/363 [==============================] - 0s 1ms/step - loss: 0.3437 - val_loss: 0.3306\n",
      "Epoch 67/200\n",
      "363/363 [==============================] - 0s 1ms/step - loss: 0.3432 - val_loss: 0.3323\n",
      "Epoch 68/200\n",
      "363/363 [==============================] - 0s 1ms/step - loss: 0.3429 - val_loss: 0.3322\n",
      "Epoch 69/200\n",
      "363/363 [==============================] - 0s 1ms/step - loss: 0.3426 - val_loss: 0.3305\n",
      "Epoch 70/200\n",
      "363/363 [==============================] - 0s 1ms/step - loss: 0.3419 - val_loss: 0.3629\n",
      "Epoch 71/200\n",
      "363/363 [==============================] - 0s 1ms/step - loss: 0.3418 - val_loss: 0.3516\n",
      "Epoch 72/200\n",
      "363/363 [==============================] - 0s 1ms/step - loss: 0.3414 - val_loss: 0.3250\n",
      "Epoch 73/200\n",
      "363/363 [==============================] - 0s 1ms/step - loss: 0.3407 - val_loss: 0.3244\n",
      "Epoch 74/200\n",
      "363/363 [==============================] - 0s 1ms/step - loss: 0.3405 - val_loss: 0.3673\n",
      "Epoch 75/200\n",
      "363/363 [==============================] - 0s 1ms/step - loss: 0.3402 - val_loss: 0.3471\n",
      "Epoch 76/200\n",
      "363/363 [==============================] - 1s 1ms/step - loss: 0.3399 - val_loss: 0.3249\n",
      "Epoch 77/200\n",
      "363/363 [==============================] - 1s 2ms/step - loss: 0.3390 - val_loss: 0.3734\n",
      "Epoch 78/200\n",
      "363/363 [==============================] - 0s 1ms/step - loss: 0.3390 - val_loss: 0.3523\n",
      "Epoch 79/200\n",
      "363/363 [==============================] - 0s 1ms/step - loss: 0.3389 - val_loss: 0.3367\n",
      "Epoch 80/200\n",
      "363/363 [==============================] - 1s 1ms/step - loss: 0.3383 - val_loss: 0.3376\n",
      "Epoch 81/200\n"
     ]
    },
    {
     "name": "stdout",
     "output_type": "stream",
     "text": [
      "363/363 [==============================] - 0s 1ms/step - loss: 0.3379 - val_loss: 0.3352\n",
      "Epoch 82/200\n",
      "363/363 [==============================] - 0s 1ms/step - loss: 0.3375 - val_loss: 0.3274\n",
      "Epoch 83/200\n",
      "363/363 [==============================] - 0s 1ms/step - loss: 0.3372 - val_loss: 0.3208\n",
      "Epoch 84/200\n",
      "363/363 [==============================] - 0s 1ms/step - loss: 0.3366 - val_loss: 0.3704\n",
      "Epoch 85/200\n",
      "363/363 [==============================] - 0s 1ms/step - loss: 0.3365 - val_loss: 0.3282\n",
      "Epoch 86/200\n",
      "363/363 [==============================] - 0s 1ms/step - loss: 0.3364 - val_loss: 0.3327\n",
      "Epoch 87/200\n",
      "363/363 [==============================] - 0s 1ms/step - loss: 0.3358 - val_loss: 0.3577\n",
      "Epoch 88/200\n",
      "363/363 [==============================] - 0s 1ms/step - loss: 0.3353 - val_loss: 0.3382\n",
      "Epoch 89/200\n",
      "363/363 [==============================] - 1s 1ms/step - loss: 0.3349 - val_loss: 0.3519\n",
      "Epoch 90/200\n",
      "363/363 [==============================] - 0s 1ms/step - loss: 0.3347 - val_loss: 0.3530\n",
      "Epoch 91/200\n",
      "363/363 [==============================] - 0s 1ms/step - loss: 0.3345 - val_loss: 0.3249\n",
      "Epoch 92/200\n",
      "363/363 [==============================] - 1s 2ms/step - loss: 0.3339 - val_loss: 0.3445\n",
      "Epoch 93/200\n",
      "363/363 [==============================] - 0s 1ms/step - loss: 0.3339 - val_loss: 0.3261\n"
     ]
    }
   ],
   "source": [
    "#train the model\n",
    "history=model.fit(x_train,y_train,epochs=200,validation_data=(x_valid,y_valid),callbacks=[checkpoint_cb,early_stopping_cb])\n"
   ]
  },
  {
   "cell_type": "code",
   "execution_count": 212,
   "id": "3da38f3e",
   "metadata": {},
   "outputs": [
    {
     "name": "stdout",
     "output_type": "stream",
     "text": [
      "162/162 [==============================] - 0s 869us/step - loss: 0.3365\n"
     ]
    }
   ],
   "source": [
    "#see at 0.3339 loss epoc stops as no further improvement \n",
    "\n",
    "model=keras.models.load_model(\"early_stop_model.h5\")\n",
    "mse_test=model.evaluate(x_test,y_test)"
   ]
  },
  {
   "cell_type": "code",
   "execution_count": null,
   "id": "c5f9ea5d",
   "metadata": {},
   "outputs": [],
   "source": []
  }
 ],
 "metadata": {
  "kernelspec": {
   "display_name": "Python 3 (ipykernel)",
   "language": "python",
   "name": "python3"
  },
  "language_info": {
   "codemirror_mode": {
    "name": "ipython",
    "version": 3
   },
   "file_extension": ".py",
   "mimetype": "text/x-python",
   "name": "python",
   "nbconvert_exporter": "python",
   "pygments_lexer": "ipython3",
   "version": "3.10.9"
  }
 },
 "nbformat": 4,
 "nbformat_minor": 5
}
